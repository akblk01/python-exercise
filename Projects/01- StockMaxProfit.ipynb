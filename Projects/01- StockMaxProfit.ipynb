{
 "cells": [
  {
   "cell_type": "markdown",
   "metadata": {},
   "source": [
    "## Verilen fiyat listesi içerisinden; maliyeti en düşük, karı en fazla olan değerleri almak"
   ]
  },
  {
   "cell_type": "code",
   "execution_count": 2,
   "metadata": {},
   "outputs": [],
   "source": [
    "def stockMaxProfit():\n",
    "    arr = input()\n",
    "    arr = arr[1:-1].split(\",\")\n",
    "    arr = sorted(arr)\n",
    "    \n",
    "    minPrice = int(min(arr))\n",
    "    maxPrice = int(max(arr))\n",
    "    \n",
    "    if ((maxPrice) - (minPrice)) <= 0:\n",
    "        return -1\n",
    "    else:\n",
    "        return print(f\"Max Profit -> Max Sales: {maxPrice} - Min Cost: {minPrice} =  {maxPrice - minPrice}\")"
   ]
  },
  {
   "cell_type": "code",
   "execution_count": 3,
   "metadata": {},
   "outputs": [
    {
     "name": "stdout",
     "output_type": "stream",
     "text": [
      "[123,412,51,636,435,352]\n",
      "Max Profit -> Max Sales: 636 - Min Cost: 123 =  513\n"
     ]
    }
   ],
   "source": [
    "stockMaxProfit()\n"
   ]
  },
  {
   "cell_type": "code",
   "execution_count": null,
   "metadata": {},
   "outputs": [],
   "source": []
  }
 ],
 "metadata": {
  "kernelspec": {
   "display_name": "Python 3",
   "language": "python",
   "name": "python3"
  },
  "language_info": {
   "codemirror_mode": {
    "name": "ipython",
    "version": 3
   },
   "file_extension": ".py",
   "mimetype": "text/x-python",
   "name": "python",
   "nbconvert_exporter": "python",
   "pygments_lexer": "ipython3",
   "version": "3.8.5"
  }
 },
 "nbformat": 4,
 "nbformat_minor": 4
}
