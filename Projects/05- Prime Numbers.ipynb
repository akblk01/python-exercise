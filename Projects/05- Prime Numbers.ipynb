{
 "cells": [
  {
   "cell_type": "markdown",
   "metadata": {},
   "source": [
    "### 1'den N'e kadar olan sayı listesinden asal olanları döndürün"
   ]
  },
  {
   "cell_type": "code",
   "execution_count": 1,
   "metadata": {},
   "outputs": [],
   "source": [
    "def prime(N):\n",
    "    primeNum = []\n",
    "    \n",
    "    for i in range(2, N + 1):\n",
    "        boolList = []\n",
    "        for j in range(2, N + 1):\n",
    "            \n",
    "            if i != j:\n",
    "                if i % j != 0:\n",
    "                    boolList.append(False)\n",
    "                else:\n",
    "                    boolList.append(True)\n",
    "        #print(boolList)\n",
    "        if True not in boolList:\n",
    "            primeNum.append(i)\n",
    "\n",
    "    return primeNum"
   ]
  },
  {
   "cell_type": "code",
   "execution_count": 2,
   "metadata": {},
   "outputs": [
    {
     "data": {
      "text/plain": [
       "[2, 3, 5, 7, 11, 13, 17, 19, 23, 29]"
      ]
     },
     "execution_count": 2,
     "metadata": {},
     "output_type": "execute_result"
    }
   ],
   "source": [
    "prime(30)"
   ]
  },
  {
   "cell_type": "code",
   "execution_count": null,
   "metadata": {},
   "outputs": [],
   "source": []
  }
 ],
 "metadata": {
  "kernelspec": {
   "display_name": "Python 3",
   "language": "python",
   "name": "python3"
  },
  "language_info": {
   "codemirror_mode": {
    "name": "ipython",
    "version": 3
   },
   "file_extension": ".py",
   "mimetype": "text/x-python",
   "name": "python",
   "nbconvert_exporter": "python",
   "pygments_lexer": "ipython3",
   "version": "3.8.5"
  }
 },
 "nbformat": 4,
 "nbformat_minor": 4
}
